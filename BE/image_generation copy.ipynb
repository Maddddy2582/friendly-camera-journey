{
 "cells": [
  {
   "cell_type": "code",
   "execution_count": 4,
   "metadata": {},
   "outputs": [
    {
     "name": "stdout",
     "output_type": "stream",
     "text": [
      "[' Name', 'Ganesh Devaraj', 'Senthilnathan', 'Mekhala Devaraj', 'Anish Mathews', 'Ravichandran P.', 'Balasubramanian A.', 'Varalakshmi B.', 'Saranraj A.', 'Saranya B.', 'Vinod Kumar M.', 'Soumya C.', 'Nusra Banu', 'Arvind B', 'Sandeep Achari', 'Vishnu Prasad N.', 'Raja G.', 'VijayKrishna G.', 'Manjula B', 'Srividhya N.', 'Sudha Rani S.', 'Karthik Abiram T.A.', 'Srinivas V.', 'Uthrakumar A.', 'Teena H.', 'Navin S.', 'Arjun S.', 'Naveenkumar N.', 'Jaishankar U.', 'Sweatha K.', 'Dhibana C.K.', 'Keerthana K.', 'Prabhakaran P.', 'Sree Ranjani S.', 'Immalda Rani S.', 'Vidyadhar B.', 'Santhosh Ramaraj', 'Abinaya K.', 'Sivashankar B', 'Manikandan G.', 'Gokilavani S.', 'Mohamed Nizar S.', 'Ram Kumar P.S.', 'Satheeshvarma S.J', 'Bhaghyaraj R.', 'Karthick S.', 'Suriya Prashath S.', 'Chandrakala V', 'Govarthanam K.', 'Surya Prakash S.', 'Manjula G', 'Ilayaraja S.', 'Mohanraj T.', 'Raghul R.', 'Ramya M.', 'Sudharsan V.', 'Vidhyaprabha V.', 'Viknesh Ramm L.', 'Santhosh Kumar Velumani', 'Bharathi R', 'Santhosh Kumar V.', 'Ishwarya D.', 'Narendranath Babu S.', 'Vignesh R.', 'Saravana Kumar M.', 'Sandhiya R.', 'Shyam S', 'Usha K.', 'Keerthivarman N.', 'Maya K.', 'Nishanth R.', 'Sairam S.', 'Vinitha Nair', 'Suseendran J.', 'Vignesh Annamalai ', 'Padmanaban J.', 'Miruthula Balasundaram', 'Sharanya Shanmugham', 'Debby Gladys', 'Bhargavi Gowri', 'Karthik K.', 'Karthik M. R.', 'Karthikeswari V.', 'Naresh Kumaar S.', 'Nigharikkha S.', 'Prasanna Kumar V.', 'Tharun Sundar B.', 'Venkatesh Perumal Pranay Chandragiri', 'Vignesh K. S.', 'Vikram Deva S.', 'Ram Ganesh', 'Balasivaguru S', 'BalaVignesh.K', 'Devi Shree.S', 'Gayathri S. K.', 'Hem Kumar Rao.R', 'Kabil Yogesh T', 'Monisha Mary AA', 'Mukes.S', 'Nabeena Begum A', 'Noufal shafeeq J', 'Prithvi S', 'Rajaram N R', 'Sowmya R.', 'Sreeram K', 'Nischitha G', 'Sathya Prakash U', 'Sudha B.', 'Rabiyathul Basiriya K A', 'Aajay Sriram Ravichandran', 'Aasief Khan SA', 'Arjun T.', 'Devadharshini D', 'Janani Priyadharshini S.K', 'Jayabal KS', 'Karthikeyan K', 'Karvendan V', 'Mohanprasath P', 'Mohamed Suhail S.M', 'Namratha B', 'Nanthagopal E', 'Prem Kumar Chinnaraj', 'Prithieraj MR', 'Rakesh Nath S', 'Ramya S', 'Ranjgith S', 'Shalini sonia', 'Srihariharan D', 'Srisoundari K', 'Vasantha Kumar J', 'Vikash Kumar V', 'Aadhya C M V S', 'Bernice Dainty J', 'Kani Mozhi E', 'Kowsalya N', 'Muthu Rajan S', 'Praveen Jim Prakash', 'Sai Krishnan P', 'Santosh S.S ', 'Anu Antony', 'Manjula R', 'Vivek Rajendran', 'Dhivya Saminathan', 'Vikram SA.', 'Ponnusamy R', 'Aishwarya Subramanian', 'Akilesh A R', 'Avinash S', 'Elakkya Periasamy', 'Eswar SM', 'Govintha raj K', 'Gowtham K', 'Jayaprakash S', 'Kanisha S M', 'Kartheeswaran S', 'Kaviarasu S', 'Krishna Kanth R', 'Madhu Vishal V', 'Nageswarvijay S', 'Nirmal Prasad Kamaladharan', 'Priyadarshini Gopal', 'Rishi Kumar R K', 'Sabthagiri Murugan', 'Sandeep Appachiappan', 'Sathishraja J', 'Shangar Arivazhagan', 'Sreenidhi T V', 'Uthayachanthiran A', 'Vinodhini R', 'Vivin Krishna R N', 'Manjunatha MS', 'S. Saradha', 'Sukhbir Singh Sachdeva', 'Mari Saravanan Sankaran', 'Nandini Arunkumar', 'Neha R Krishnan', 'Romauld Francis Xavier', 'Aagash Raaj J.M.', 'Aarthi Thambusamy', 'Akash Krishnaa S K', 'Akash M.', 'Arun Natarajan', 'Athira Kumar', 'Chethan Rathnappa', 'Dhanusram.B', 'Dhanusri Venugopal', 'Gokuldharan S', 'Gowtham Srinivasan', 'Indhu Ramalingam', 'Jayaseelan James', 'Joshua J', 'Kavin E D', 'Meenatchi Thenappan', 'Mithun N S', 'Monisha Devi Sakthivel Murugan', 'Nandha Kumar Palanisamy', 'Nandhini Vijayakumar', 'Nivetha Velumani', 'Madhan Mohan Reddy Peram ', 'Priyadarshini Piramanayagam', 'Rahul Raja Rajangam', 'Ramya Dhandapani', 'Rasswanth Shanmugasundaram', 'Roshana Ananthkumar', 'Sangeetha Jothilingam', 'Sanjay kumar Duraisamy', 'Shaalini Subrammanian', 'Sneha B S', 'Snehalatha Selvakumaran', 'Sujeev Rithan', 'Thilak Chandar C.', 'Vaishnav Rengan Venkatram', 'Varshini Periyasamy', 'Vineel Prasad Inukonda', 'Yogapriya Pappaian', 'Madhaneeswaran P', 'Santhosh M', 'Poornima P R', 'Paramasivam Gnanasekaran', 'Akhil Kumar Arshid', 'Amulya Balusupati ', 'Battu Mounika ', 'Dinesh M', 'Gowtham Krishnan', 'Sankalp Sharma', 'Srinivasa N', 'Suganth S.', 'Kesavan R', 'Ilakkia S Pandian', 'Abishlal Nelson', 'Aishwarya Shree Jayabhaarath', 'Aishwarya Thanasekar', 'Ammar Husain Huk', 'Aravind Karlambakkam Murali', 'Aravindhan Palanisamy', 'Arthi Balasubramanian', 'Arun Krishna Kumar', 'Ashritha Shankar', 'Asif Muhammed A', 'Deepika K', 'Deepika P', 'Dhanush Chakkaravarthy M', 'Dinesh Babu P', 'Geffrey N', 'Giriharan Ravichandran', 'Gokulprasanth Ravi', 'Hari Ram Karthik M', 'Hariharan Sreedhar', 'Indrajith M', 'Jayasudha Kathavarayan', 'Jishnu Ravichandran', 'Jotheeswaran Nandagopal', 'Kaiser Asan', 'Kalaiarasi M', 'Kavin N S', 'Kavin Palanisamy', 'Kingsly Andrews Maria Thomai', 'Kishor Kumar B', 'Kishore Kumar Nagaraj', 'Krishnaprasath Murugesan', 'Madhumita Ashok Kumar', 'Manisha Sivakumar', 'Manudev Rethinakumar', 'Mohammed Siddique Mohammed Abdul Rahim', 'Monish Prakash S', 'Pradeep S', 'Pranav Sabarish R', 'Richie Soshan', 'Rishwanth Thiyagaraj', 'Sabarinathan Gopal', 'Sadhana Suresh Kumar', 'Sakthivel Ganapathy', 'Sarvabhotla Venkata Lakshmi Ganesh Nithin', 'Sathika J', 'Shiyam Kiruthik Sundara Moorthy', 'Sudeep Aryan', 'Suganya N', 'Tamil Mani P', 'Venkata Gunasekhar V', 'Vignesh Arivazhagan', 'Vigneshwaran Selvaraj', 'Vijai K S', 'Vishva Pechi', 'Mugilan M', 'Veda Habbu', 'Keerthana Chandrasekar', 'Adam Jayahar', 'Karthikeyan Balasubramanian', 'Kavya Dharani B', 'Manikanta NP', 'Aadhavan GS', 'Sathish Kumar', 'Shivam Chhabra', 'Ipsita Roy', 'Joshua J Roy ', 'Sudha Balan', 'Gowtham V', 'Vivek Satheesan', 'Naveen Kumar', 'Nipun Pal', 'Arul Murugan Subburaj', 'Danush Adithya Pandiyarajan', 'Dhana Abhiraj Kumarasamy', 'Kavin Prashad Saravanan', 'Krishnan Murugan', 'Mahesan Periyasamy', 'Mohammed Shafiq Ilyas', 'Nithish Kumar Sekar', 'Preethi Suresh kumar', 'Puviyarasu Sakthivel', 'Ranjith Kumar Eswaran', 'Sabarish Kannan', 'Selva Gowtham Sivaraj', 'Sruthi Subaraja', 'Subhasri V Pandian', 'Sujith Sivan Ramakrishnan', 'Vignesh Shivaram Muruganandan', 'Vimalkumar Selvakumar', 'Abdulla Ibak M', 'Adhavan Rajendran', 'Aghilan', 'Ahalya Radhakrishnan', 'Aishwarya Lakshmi S S', 'Arun Roshan K R', 'Arunan Rangaraj', 'Gobburu Bindhu Madava Varma', 'Divakar Selvam', 'Giftlin Devapriya', 'Jaswanthika Ramu', 'Khishore Kumar KM', 'Mathankumar', 'Neelamparesh Velappan', 'Raguram Kasthurisamy', 'Sam Rishi R', 'Sanjay Sampathkumar', 'Shri Ram Karthic Veluswamy', 'Shriramya Karur', 'Snehaa Sailendran', 'Sri Varshini Senthilvel', 'Varshini Senthilkumar', 'Vishnu Govindaraj', 'Ancy Augustin', 'Ashiq Abdhul Rahman', 'Ganeshkumaar S', 'Kadambari Sree Rama Aditya', 'Kaviyarasu Sivakumar', 'Lipika Maadeswaran', 'Madav Mahesh', 'Nithin Joel', 'Nivetha Vadivel', 'Sanjeev Kumar M', 'Santharuban V S', 'Shriram Sakthivel', 'Sonali Thiruvenkataswamy', 'Swetha Palanisamy', 'Vignesh G Varatharaj', 'Thanga Dhiwan', 'Trupti Sreedharan', 'Rajendhiran Sokkalingam', 'Vinayak Chanabasayya Yakkihallimath', 'Guru Prasanth Saravanan', 'Sankar', 'Sugitha E.', 'Akash Kumar Kheria']\n"
     ]
    }
   ],
   "source": [
    "\n",
    "import csv\n",
    "\n",
    "# Specify the file name of your CSV\n",
    "filename = 'C:/Users/ashritha.shankar/Downloads/AI Team_Data(Sheet1).csv'\n",
    "\n",
    "# Open the CSV file\n",
    "with open(filename, mode='r') as file:\n",
    "    reader = csv.reader(file)\n",
    "    \n",
    "    # convert a column to a list\n",
    "    column = []\n",
    "    for row in reader:\n",
    "        column.append(row[1])\n",
    "\n",
    "print(column)\n"
   ]
  }
 ],
 "metadata": {
  "kernelspec": {
   "display_name": "Python 3",
   "language": "python",
   "name": "python3"
  },
  "language_info": {
   "codemirror_mode": {
    "name": "ipython",
    "version": 3
   },
   "file_extension": ".py",
   "mimetype": "text/x-python",
   "name": "python",
   "nbconvert_exporter": "python",
   "pygments_lexer": "ipython3",
   "version": "3.11.0"
  }
 },
 "nbformat": 4,
 "nbformat_minor": 2
}
